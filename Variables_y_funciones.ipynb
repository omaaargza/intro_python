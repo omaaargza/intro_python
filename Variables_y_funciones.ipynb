{
 "cells": [
  {
   "cell_type": "markdown",
   "metadata": {},
   "source": [
    "\n",
    "# Aspectos generales para iniciar en Python \n",
    "\n",
    "## ¿Por qué Python?\n",
    "\n",
    "Python es un lenguaje de programación de propósito general de muy alto nivel que ha sido diseñado para optimizar la velocidad de desarrollo.\n",
    "Según el sitio web https://www.python.org/, \"le permite trabajar rápidamente e integrar los sistemas de manera efectiva\".\n",
    "\n",
    "## Utilizando Python\n",
    "Python es un lenguaje interpretado. Esto significa que las instrucciones se ejecutan directamente en un procesador sin el conjunto de instrucciones previamente compiladas.\n",
    "\n",
    "Interactuamos con el procesador o *Kernel* a través de un entorno de programación. Hay muchos buenos entornos de programación; sin embargo, aquí usaremos **Jupyter Notebooks**, que facilitan la recopilación de código, salida y discusión en un solo archivo.\n",
    "\n",
    "## Jupyter Notebooks - Conceptos básicos \n",
    "\n",
    "Los bloques de **código o texto** en un Jupyter Notebook se denominan **celdas**. Esta es una celda *texto*. El texto puede formatearse usando Markdown. Cuando se ejecuta una celda de texto, se aplica el formato. Las celdas de código contienen instrucciones para el Kernel. Cuando se ejecuta una celda de código, la salida o el resultado de ejecutar el conjunto de instrucciones se muestra a continuación.\n",
    "\n",
    "Use el menú **Insertar** para insertar nuevas celdas y el menú **Celda** para ejecutar celdas y cambiar su tipo. La celda actual también se puede ejecutar presionando *Shift + Enter*.\n",
    "\n",
    "El número al lado de la celda de código indica su lugar más reciente en el orden en que se han ejecutado las celdas en el cuaderno. Es posible ejecutar celdas en un orden diferente y terminar con resultados inesperados."
   ]
  },
  {
   "cell_type": "markdown",
   "metadata": {},
   "source": [
    "## Variables\n",
    "\n",
    "A menudo queremos almacenar un valor o el resultado de un cálculo para su uso posterior. Hacemos esto usando **variables**. Podemos asignar valores a variables usando el operador de asignación. \n",
    "\n",
    "Hay que tener en cuenta que las instrucciones separadas (aquí dos tareas) se colocan en líneas posteriores. El Kernel ejecutará cada instrucción por turno cuando se ejecute la celda."
   ]
  },
  {
   "cell_type": "code",
   "execution_count": 6,
   "metadata": {},
   "outputs": [
    {
     "name": "stdout",
     "output_type": "stream",
     "text": [
      "Hola mundo!\n"
     ]
    }
   ],
   "source": [
    "a = \"Hola\"\n",
    "b = \"mundo!\"\n",
    "print(a+\" \"+b)"
   ]
  },
  {
   "cell_type": "markdown",
   "metadata": {},
   "source": [
    "Luego podemos referirnos a estas variables en los cálculos y otras declaraciones en las celdas posteriores.\n",
    "\n",
    "La almohadilla (**#**) en una celda de código indica que el resto de la línea es un **comentario** para el programador y debe ser ignorado por el kernel al ejecutar el código\n",
    "\n",
    "**print()** es una función incorporada que imprime su entrada en la salida estándar (es decir, en la pantalla)."
   ]
  },
  {
   "cell_type": "code",
   "execution_count": 7,
   "metadata": {},
   "outputs": [
    {
     "name": "stdout",
     "output_type": "stream",
     "text": [
      "Hola\n"
     ]
    }
   ],
   "source": [
    "#Esto es un comentario\n",
    "print(a)  #imprime el valor de a\n",
    "c = a + \" \" + b  #calcula el valor de a+b y lo guarda en c"
   ]
  },
  {
   "cell_type": "code",
   "execution_count": 8,
   "metadata": {},
   "outputs": [
    {
     "name": "stdout",
     "output_type": "stream",
     "text": [
      "Hola mundo!\n"
     ]
    }
   ],
   "source": [
    "print(c)  #imprime el valor de c"
   ]
  },
  {
   "cell_type": "markdown",
   "metadata": {},
   "source": [
    "#### Nombrando variables \n",
    "\n",
    "En teoría, puedes nombrar tus variables como quieras. Sin embargo, aquí hay algunos puntos para recordar:\n",
    "1. Los nombres cortos de variables son más fáciles de escribir\n",
    "2. Más largos, los nombres descriptivos son más fáciles de recordar (posiblemente)\n",
    "3. **Evitar** usar palabras que podrían ser una **palabra clave** en Python. Intenta ejecutar el siguiente código. ¿Por qué sale mal? "
   ]
  },
  {
   "cell_type": "code",
   "execution_count": 9,
   "metadata": {},
   "outputs": [
    {
     "ename": "TypeError",
     "evalue": "'int' object is not callable",
     "output_type": "error",
     "traceback": [
      "\u001b[1;31m---------------------------------------------------------------------------\u001b[0m",
      "\u001b[1;31mTypeError\u001b[0m                                 Traceback (most recent call last)",
      "\u001b[1;32m<ipython-input-9-309de644a96c>\u001b[0m in \u001b[0;36m<module>\u001b[1;34m\u001b[0m\n\u001b[0;32m      1\u001b[0m \u001b[0mprint\u001b[0m \u001b[1;33m=\u001b[0m \u001b[1;36m5\u001b[0m\u001b[1;33m\u001b[0m\u001b[1;33m\u001b[0m\u001b[0m\n\u001b[1;32m----> 2\u001b[1;33m \u001b[0mprint\u001b[0m\u001b[1;33m(\u001b[0m\u001b[1;36m10\u001b[0m\u001b[1;33m)\u001b[0m\u001b[1;33m\u001b[0m\u001b[1;33m\u001b[0m\u001b[0m\n\u001b[0m",
      "\u001b[1;31mTypeError\u001b[0m: 'int' object is not callable"
     ]
    }
   ],
   "source": [
    "print = 5\n",
    "print(10)"
   ]
  },
  {
   "cell_type": "markdown",
   "metadata": {},
   "source": [
    "En la celda anteiror, se ha sobrescrito la definición de Python de la función **print()**. ¿Cómo arreglamos esto? Puede intentar eliminar la celda de arriba o cambiarla para que la variable ya no se llame **print**. Sin embargo, la celda de abajo todavía no funcionará, porque la variable **print** todavía está en la memoria."
   ]
  },
  {
   "cell_type": "code",
   "execution_count": 10,
   "metadata": {},
   "outputs": [
    {
     "ename": "TypeError",
     "evalue": "'int' object is not callable",
     "output_type": "error",
     "traceback": [
      "\u001b[1;31m---------------------------------------------------------------------------\u001b[0m",
      "\u001b[1;31mTypeError\u001b[0m                                 Traceback (most recent call last)",
      "\u001b[1;32m<ipython-input-10-355b70c05717>\u001b[0m in \u001b[0;36m<module>\u001b[1;34m\u001b[0m\n\u001b[1;32m----> 1\u001b[1;33m \u001b[0mprint\u001b[0m\u001b[1;33m(\u001b[0m\u001b[1;36m10\u001b[0m\u001b[1;33m)\u001b[0m\u001b[1;33m\u001b[0m\u001b[1;33m\u001b[0m\u001b[0m\n\u001b[0m",
      "\u001b[1;31mTypeError\u001b[0m: 'int' object is not callable"
     ]
    }
   ],
   "source": [
    "print(10)"
   ]
  },
  {
   "cell_type": "markdown",
   "metadata": {},
   "source": [
    "Hay dos posibles soluciones. Elimine la celda infractora y reinicie el kernel o use el comando **del** para borrar su definición de **print** (que reinstalará la definición predeterminada de Python)"
   ]
  },
  {
   "cell_type": "code",
   "execution_count": 14,
   "metadata": {},
   "outputs": [],
   "source": [
    "#Agregar el código apra borrar la defición de print\n"
   ]
  },
  {
   "cell_type": "code",
   "execution_count": 15,
   "metadata": {},
   "outputs": [
    {
     "name": "stdout",
     "output_type": "stream",
     "text": [
      "10\n"
     ]
    }
   ],
   "source": [
    "print(10)"
   ]
  },
  {
   "cell_type": "markdown",
   "metadata": {},
   "source": [
    "## Tipos de datos básicos\n",
    "\n",
    "Python tiene varios tipos de datos básicos. Ejecute las celdas a continuación para descubrir cómo se llaman.\n",
    "\n",
    "*type ()* es otra función incorporada que te indica el tipo (actual) de un valor o variable."
   ]
  },
  {
   "cell_type": "code",
   "execution_count": 16,
   "metadata": {},
   "outputs": [],
   "source": [
    "#Tipo de dato entero\n"
   ]
  },
  {
   "cell_type": "code",
   "execution_count": 17,
   "metadata": {},
   "outputs": [],
   "source": [
    "#Tipo de dato decimal\n"
   ]
  },
  {
   "cell_type": "code",
   "execution_count": 18,
   "metadata": {},
   "outputs": [],
   "source": [
    "#Tipo de dato cadena de caracter\n"
   ]
  },
  {
   "cell_type": "code",
   "execution_count": 19,
   "metadata": {},
   "outputs": [],
   "source": [
    "#Tipo de dato caracter\n"
   ]
  },
  {
   "cell_type": "code",
   "execution_count": 20,
   "metadata": {},
   "outputs": [],
   "source": [
    "#Tipo de dato cadena de caracteres\n"
   ]
  },
  {
   "cell_type": "code",
   "execution_count": 22,
   "metadata": {},
   "outputs": [],
   "source": [
    "#Tipo de dato booleano\n"
   ]
  },
  {
   "cell_type": "markdown",
   "metadata": {},
   "source": [
    "Tenga en cuenta que las cadenas están delimitadas por comillas (comillas simples o comillas dobles). '123' como una cadena es muy diferente a 123 como un entero ... ya que determina qué tipo de cosas podemos hacer con él, como veremos en breve.\n",
    "\n",
    "### Tipos dinámicos de variables \n",
    "En muchos lenguajes de programación, es necesario declarar que las variables son de cierto tipo y luego esa variable solo puede contener valores de ese tipo.\n",
    "Python usa escritura dinámica lo que significa que los tipos de variables pueden cambiar (y su tipo es simplemente el tipo de escritura que contiene)."
   ]
  },
  {
   "cell_type": "code",
   "execution_count": 9,
   "metadata": {},
   "outputs": [
    {
     "data": {
      "text/plain": [
       "int"
      ]
     },
     "execution_count": 9,
     "metadata": {},
     "output_type": "execute_result"
    }
   ],
   "source": [
    "mi_numero = 556\n",
    "type(mi_numero)"
   ]
  },
  {
   "cell_type": "code",
   "execution_count": 23,
   "metadata": {},
   "outputs": [],
   "source": [
    "#Podemos definir la variable mi_numero como otro tipo de dato diferente\n"
   ]
  },
  {
   "cell_type": "markdown",
   "metadata": {},
   "source": [
    "## Operadores básicos \n",
    "\n",
    "### Aritmética \n",
    "Operadores básicos +, -, \\*, / y ()"
   ]
  },
  {
   "cell_type": "code",
   "execution_count": 27,
   "metadata": {},
   "outputs": [
    {
     "name": "stdout",
     "output_type": "stream",
     "text": [
      "25.0\n"
     ]
    }
   ],
   "source": [
    "resultado = 5*10/(8-7+1)\n",
    "print(resultado)"
   ]
  },
  {
   "cell_type": "markdown",
   "metadata": {},
   "source": [
    "Para la división de enteros, use // y %\n"
   ]
  },
  {
   "cell_type": "code",
   "execution_count": 25,
   "metadata": {},
   "outputs": [
    {
     "name": "stdout",
     "output_type": "stream",
     "text": [
      "3\n",
      "1\n"
     ]
    }
   ],
   "source": [
    "print(7//2)  #para obtener un cociente\n",
    "print(7%2)  #para obtener el residuo"
   ]
  },
  {
   "cell_type": "markdown",
   "metadata": {},
   "source": [
    "La exponenciación se puede realizar usando \\*\\*"
   ]
  },
  {
   "cell_type": "code",
   "execution_count": 26,
   "metadata": {},
   "outputs": [
    {
     "name": "stdout",
     "output_type": "stream",
     "text": [
      "49\n"
     ]
    }
   ],
   "source": [
    "print(7**2)"
   ]
  },
  {
   "cell_type": "markdown",
   "metadata": {},
   "source": [
    "A menudo, queremos hacer algo a una variable y luego almacenar el resultado en esa variable para reutilizarlo en el futuro (como aumentar un contador por 1). Podemos hacer esto usando el siguiente código (intente ejecutarlo varias veces)."
   ]
  },
  {
   "cell_type": "code",
   "execution_count": 28,
   "metadata": {},
   "outputs": [],
   "source": [
    "#La variable resultado contiene el valor guardado en una celda previa\n",
    "\n"
   ]
  },
  {
   "cell_type": "markdown",
   "metadata": {},
   "source": [
    "### Operadores de cadena \n",
    "\n",
    "Si se aplica **+** a dos cadenas, estas se concatenan. Pruebe las siguientes celdas. ¿Por qué la segunda produce un error?"
   ]
  },
  {
   "cell_type": "code",
   "execution_count": 29,
   "metadata": {},
   "outputs": [
    {
     "name": "stdout",
     "output_type": "stream",
     "text": [
      "Mi nombre es Omar\n"
     ]
    }
   ],
   "source": [
    "minombre = \"Omar\"\n",
    "print(\"Mi nombre es \" + minombre)"
   ]
  },
  {
   "cell_type": "code",
   "execution_count": 31,
   "metadata": {},
   "outputs": [
    {
     "ename": "TypeError",
     "evalue": "can only concatenate str (not \"int\") to str",
     "output_type": "error",
     "traceback": [
      "\u001b[1;31m---------------------------------------------------------------------------\u001b[0m",
      "\u001b[1;31mTypeError\u001b[0m                                 Traceback (most recent call last)",
      "\u001b[1;32m<ipython-input-31-973dc044d085>\u001b[0m in \u001b[0;36m<module>\u001b[1;34m\u001b[0m\n\u001b[0;32m      1\u001b[0m \u001b[0msemestre\u001b[0m \u001b[1;33m=\u001b[0m \u001b[1;36m5\u001b[0m\u001b[1;33m\u001b[0m\u001b[1;33m\u001b[0m\u001b[0m\n\u001b[1;32m----> 2\u001b[1;33m \u001b[0mprint\u001b[0m\u001b[1;33m(\u001b[0m\u001b[1;34m\"Actualmente curso el semestre \"\u001b[0m \u001b[1;33m+\u001b[0m \u001b[0msemestre\u001b[0m\u001b[1;33m)\u001b[0m\u001b[1;33m\u001b[0m\u001b[1;33m\u001b[0m\u001b[0m\n\u001b[0m",
      "\u001b[1;31mTypeError\u001b[0m: can only concatenate str (not \"int\") to str"
     ]
    }
   ],
   "source": [
    "semestre = 5\n",
    "print(\"Actualmente curso el semestre \" + semestre)"
   ]
  },
  {
   "cell_type": "code",
   "execution_count": 33,
   "metadata": {},
   "outputs": [],
   "source": [
    "#Para corregir este error se puede utilizar la función str()\n"
   ]
  },
  {
   "cell_type": "markdown",
   "metadata": {},
   "source": [
    "## Booleans y condicionales\n",
    "Podemos probar la igualdad de ints, flotantes y cadenas usando **==** "
   ]
  },
  {
   "cell_type": "code",
   "execution_count": 34,
   "metadata": {},
   "outputs": [
    {
     "data": {
      "text/plain": [
       "True"
      ]
     },
     "execution_count": 34,
     "metadata": {},
     "output_type": "execute_result"
    }
   ],
   "source": [
    "5 + 5 == 10"
   ]
  },
  {
   "cell_type": "code",
   "execution_count": 35,
   "metadata": {},
   "outputs": [
    {
     "data": {
      "text/plain": [
       "False"
      ]
     },
     "execution_count": 35,
     "metadata": {},
     "output_type": "execute_result"
    }
   ],
   "source": [
    "resultado = \"Python\"\n",
    "resultado == \"python\""
   ]
  },
  {
   "cell_type": "code",
   "execution_count": 19,
   "metadata": {},
   "outputs": [
    {
     "data": {
      "text/plain": [
       "True"
      ]
     },
     "execution_count": 19,
     "metadata": {},
     "output_type": "execute_result"
    }
   ],
   "source": [
    "5 == 5.0"
   ]
  },
  {
   "cell_type": "markdown",
   "metadata": {},
   "source": [
    "Para enteros y flotantes también podemos usar <,>> = y <="
   ]
  },
  {
   "cell_type": "code",
   "execution_count": 36,
   "metadata": {},
   "outputs": [
    {
     "data": {
      "text/plain": [
       "False"
      ]
     },
     "execution_count": 36,
     "metadata": {},
     "output_type": "execute_result"
    }
   ],
   "source": [
    "16 < 10"
   ]
  },
  {
   "cell_type": "code",
   "execution_count": 37,
   "metadata": {},
   "outputs": [
    {
     "data": {
      "text/plain": [
       "False"
      ]
     },
     "execution_count": 37,
     "metadata": {},
     "output_type": "execute_result"
    }
   ],
   "source": [
    "10 < 10"
   ]
  },
  {
   "cell_type": "code",
   "execution_count": 38,
   "metadata": {},
   "outputs": [
    {
     "data": {
      "text/plain": [
       "True"
      ]
     },
     "execution_count": 38,
     "metadata": {},
     "output_type": "execute_result"
    }
   ],
   "source": [
    "10 <= 10"
   ]
  },
  {
   "cell_type": "markdown",
   "metadata": {},
   "source": [
    "### Estructuras de control de flujo"
   ]
  },
  {
   "cell_type": "markdown",
   "metadata": {},
   "source": [
    "A menudo queremos probar el valor de una variable y tomar una decisión sobre qué hacer a continuación dependiendo del resultado de esa prueba. Hacemos esto usando un **if:** y **else:** de la siguiente manera. \n",
    "\n",
    "Hay que tener en cuenta que la sangría es muy importante ya que delimita los bloques de código que se ejecutarán en cada caso. Aquí cada bloque solo contiene una instrucción, pero podría haber varias instrucciones. Asegúrese de ejecutar el código con diferentes valores asignados a **mi_edad**"
   ]
  },
  {
   "cell_type": "code",
   "execution_count": 39,
   "metadata": {},
   "outputs": [],
   "source": [
    "#Usar condicionales para generar un código que dada una edad, indique si la persona es mayor de edad o menor de edad\n"
   ]
  },
  {
   "cell_type": "markdown",
   "metadata": {},
   "source": [
    "Generemos una serie de reglas que indique la opinión que tienen las personas acerca de la película **Los vengadores** de acuerdo a su edad:"
   ]
  },
  {
   "cell_type": "code",
   "execution_count": 41,
   "metadata": {},
   "outputs": [
    {
     "name": "stdout",
     "output_type": "stream",
     "text": [
      "Buena!\n"
     ]
    }
   ],
   "source": [
    "mi_edad = 15\n",
    "if mi_edad < 14:\n",
    "    print(\"Fantástico!\") #Si la persona tiene menos de 11 años dirá que la película es fantástica\n",
    "elif mi_edad < 35:\n",
    "    print(\"Buena!\") #Si la persona tiene menos de 35 años dirá que la película es buena\n",
    "else:\n",
    "    print(\"Aburrida!\") #Si la persona tiene 35 años o más, dirá que la película es aburrida"
   ]
  },
  {
   "cell_type": "markdown",
   "metadata": {},
   "source": [
    "**Extensión** Los condicionales se pueden estar dentro de los condicionales, por ejemplo"
   ]
  },
  {
   "cell_type": "code",
   "execution_count": 42,
   "metadata": {},
   "outputs": [
    {
     "name": "stdout",
     "output_type": "stream",
     "text": [
      "Hola Joaquin Phoenix\n",
      "Creo que la película era fantástica.\n"
     ]
    }
   ],
   "source": [
    "mi_edad = 15\n",
    "mi_nombre = \"Joaquin Phoenix\"\n",
    "if mi_edad < 18:\n",
    "    if mi_nombre == \"\":\n",
    "        print(\"Joaquin Phoenix.\")\n",
    "        print(\"Creo que la película es mala.\")\n",
    "    else:\n",
    "        print(\"Hola \" + mi_nombre)\n",
    "        print(\"Creo que la película era fantástica.\")\n",
    "else:\n",
    "    print(\"Hola \" + mi_nombre)\n",
    "    print(\"Creo que la película era buena.\")"
   ]
  },
  {
   "cell_type": "markdown",
   "metadata": {},
   "source": [
    "## Funciones \n",
    "\n",
    "Las funciones son una parte fundamental de escribir código claro. Cualquier conjunto de instrucciones que desee reutilizarse para una entrada diferente (o conjunto de entradas) debe escribirse como una función.\n",
    "Una función en Python toma una entrada, generalmente conocida como argumento, y devuelve una salida. \n",
    "Ya hemos visto dos funciones integradas en python **print()** y **type()**. Otra función incorporada muy útil es **len()** que, cuando se le asigna una cadena como entrada, devuelve la longitud de esa cadena. "
   ]
  },
  {
   "cell_type": "code",
   "execution_count": 33,
   "metadata": {},
   "outputs": [
    {
     "name": "stdout",
     "output_type": "stream",
     "text": [
      "17\n"
     ]
    }
   ],
   "source": [
    "print(len(\"Mi nombre es Omar\"))"
   ]
  },
  {
   "cell_type": "markdown",
   "metadata": {},
   "source": [
    "Nota: Jupyter notebook imprimirá automáticamente el resultado de una función (siempre que sea la última llamada en la celda). Por lo tanto, podemos omitir la llamada a **print()**. Sin embargo, tenga cuidado si hace esto, ya que esto no funciona en otros entornos de programación."
   ]
  },
  {
   "cell_type": "code",
   "execution_count": 49,
   "metadata": {},
   "outputs": [
    {
     "data": {
      "text/plain": [
       "22"
      ]
     },
     "execution_count": 49,
     "metadata": {},
     "output_type": "execute_result"
    }
   ],
   "source": [
    "len(\"Mi nombre es Alfonsina\")"
   ]
  },
  {
   "cell_type": "markdown",
   "metadata": {},
   "source": [
    "A menudo queremos definir nuestras propias funciones. Aquí se explica cómo definir la función **saludo()** que toma un solo argumento y devuelve un saludo que depende de la longitud de la cadena de entrada"
   ]
  },
  {
   "cell_type": "code",
   "execution_count": 45,
   "metadata": {},
   "outputs": [],
   "source": [
    "def saludo(argumento):\n",
    "    if len(argumento) < 5:\n",
    "        resultado = \"Hola \"+argumento\n",
    "    else:\n",
    "        resultado = \"Buen día \"+argumento\n",
    "    return resultado"
   ]
  },
  {
   "cell_type": "markdown",
   "metadata": {},
   "source": [
    "Una vez que hemos ejecutado esta celda, la función **saludo()** está disponible para usar en cualquier otra celda."
   ]
  },
  {
   "cell_type": "code",
   "execution_count": 46,
   "metadata": {},
   "outputs": [
    {
     "data": {
      "text/plain": [
       "'Hola Omar'"
      ]
     },
     "execution_count": 46,
     "metadata": {},
     "output_type": "execute_result"
    }
   ],
   "source": [
    "saludo(\"Omar\")"
   ]
  },
  {
   "cell_type": "code",
   "execution_count": 47,
   "metadata": {},
   "outputs": [
    {
     "data": {
      "text/plain": [
       "'Buen día Alfonsina'"
      ]
     },
     "execution_count": 47,
     "metadata": {},
     "output_type": "execute_result"
    }
   ],
   "source": [
    "saludo(\"Alfonsina\")"
   ]
  },
  {
   "cell_type": "markdown",
   "metadata": {},
   "source": [
    "¿Por qué la siguiente indica que hay un error?"
   ]
  },
  {
   "cell_type": "code",
   "execution_count": 48,
   "metadata": {},
   "outputs": [
    {
     "ename": "TypeError",
     "evalue": "object of type 'int' has no len()",
     "output_type": "error",
     "traceback": [
      "\u001b[1;31m---------------------------------------------------------------------------\u001b[0m",
      "\u001b[1;31mTypeError\u001b[0m                                 Traceback (most recent call last)",
      "\u001b[1;32m<ipython-input-48-76cd43a72274>\u001b[0m in \u001b[0;36m<module>\u001b[1;34m\u001b[0m\n\u001b[1;32m----> 1\u001b[1;33m \u001b[0msaludo\u001b[0m\u001b[1;33m(\u001b[0m\u001b[1;36m123\u001b[0m\u001b[1;33m)\u001b[0m\u001b[1;33m\u001b[0m\u001b[1;33m\u001b[0m\u001b[0m\n\u001b[0m",
      "\u001b[1;32m<ipython-input-45-44111e593cf1>\u001b[0m in \u001b[0;36msaludo\u001b[1;34m(argumento)\u001b[0m\n\u001b[0;32m      1\u001b[0m \u001b[1;32mdef\u001b[0m \u001b[0msaludo\u001b[0m\u001b[1;33m(\u001b[0m\u001b[0margumento\u001b[0m\u001b[1;33m)\u001b[0m\u001b[1;33m:\u001b[0m\u001b[1;33m\u001b[0m\u001b[1;33m\u001b[0m\u001b[0m\n\u001b[1;32m----> 2\u001b[1;33m     \u001b[1;32mif\u001b[0m \u001b[0mlen\u001b[0m\u001b[1;33m(\u001b[0m\u001b[0margumento\u001b[0m\u001b[1;33m)\u001b[0m \u001b[1;33m<\u001b[0m \u001b[1;36m5\u001b[0m\u001b[1;33m:\u001b[0m\u001b[1;33m\u001b[0m\u001b[1;33m\u001b[0m\u001b[0m\n\u001b[0m\u001b[0;32m      3\u001b[0m         \u001b[0mresultado\u001b[0m \u001b[1;33m=\u001b[0m \u001b[1;34m\"Hola \"\u001b[0m\u001b[1;33m+\u001b[0m\u001b[0margumento\u001b[0m\u001b[1;33m\u001b[0m\u001b[1;33m\u001b[0m\u001b[0m\n\u001b[0;32m      4\u001b[0m     \u001b[1;32melse\u001b[0m\u001b[1;33m:\u001b[0m\u001b[1;33m\u001b[0m\u001b[1;33m\u001b[0m\u001b[0m\n\u001b[0;32m      5\u001b[0m         \u001b[0mresultado\u001b[0m \u001b[1;33m=\u001b[0m \u001b[1;34m\"Buen día \"\u001b[0m\u001b[1;33m+\u001b[0m\u001b[0margumento\u001b[0m\u001b[1;33m\u001b[0m\u001b[1;33m\u001b[0m\u001b[0m\n",
      "\u001b[1;31mTypeError\u001b[0m: object of type 'int' has no len()"
     ]
    }
   ],
   "source": [
    "saludo(123)"
   ]
  },
  {
   "cell_type": "markdown",
   "metadata": {},
   "source": [
    "**Extensión** \n",
    "Las funciones también se pueden definir para tomar múltiples argumentos. En el siguiente ejemplo, ahora podemos establecer el valor de mi_limite."
   ]
  },
  {
   "cell_type": "code",
   "execution_count": 45,
   "metadata": {},
   "outputs": [],
   "source": [
    "def saludo(cadena):\n",
    "    if len(cadena) < 5:\n",
    "        resultado = \"Hola \"+cadena\n",
    "    elif len(cadena) < 10:\n",
    "        resultado = \"Que tal \"+cadena\n",
    "    else:\n",
    "        resultado = \"Buen día \"+cadena\n",
    "    return resultado"
   ]
  },
  {
   "cell_type": "code",
   "execution_count": 46,
   "metadata": {},
   "outputs": [
    {
     "data": {
      "text/plain": [
       "'Hola Omar'"
      ]
     },
     "execution_count": 46,
     "metadata": {},
     "output_type": "execute_result"
    }
   ],
   "source": [
    "saludo(\"Omar\")"
   ]
  },
  {
   "cell_type": "code",
   "execution_count": 48,
   "metadata": {},
   "outputs": [
    {
     "data": {
      "text/plain": [
       "'Que tal Consuelo'"
      ]
     },
     "execution_count": 48,
     "metadata": {},
     "output_type": "execute_result"
    }
   ],
   "source": [
    "saludo(\"Consuelo\")"
   ]
  },
  {
   "cell_type": "code",
   "execution_count": null,
   "metadata": {},
   "outputs": [],
   "source": []
  }
 ],
 "metadata": {
  "kernelspec": {
   "display_name": "Python 3",
   "language": "python",
   "name": "python3"
  },
  "language_info": {
   "codemirror_mode": {
    "name": "ipython",
    "version": 3
   },
   "file_extension": ".py",
   "mimetype": "text/x-python",
   "name": "python",
   "nbconvert_exporter": "python",
   "pygments_lexer": "ipython3",
   "version": "3.8.5"
  }
 },
 "nbformat": 4,
 "nbformat_minor": 2
}
